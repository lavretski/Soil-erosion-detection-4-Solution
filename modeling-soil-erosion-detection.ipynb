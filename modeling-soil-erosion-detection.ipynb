{
 "metadata": {
  "kernelspec": {
   "language": "python",
   "display_name": "Python 3",
   "name": "python3"
  },
  "language_info": {
   "name": "python",
   "version": "3.7.12",
   "mimetype": "text/x-python",
   "codemirror_mode": {
    "name": "ipython",
    "version": 3
   },
   "pygments_lexer": "ipython3",
   "nbconvert_exporter": "python",
   "file_extension": ".py"
  }
 },
 "nbformat_minor": 4,
 "nbformat": 4,
 "cells": [
  {
   "cell_type": "markdown",
   "source": [
    "As I wrote in the analysis file, for some reason, masks are simply attached to the wrong places on the map"
   ],
   "metadata": {}
  },
  {
   "cell_type": "markdown",
   "source": [
    "But I tried to write a code with modeling"
   ],
   "metadata": {}
  },
  {
   "cell_type": "markdown",
   "source": [
    "Я you can give me a hint on how to fix the masks, I'm ready to continue working, thank"
   ],
   "metadata": {}
  },
  {
   "cell_type": "code",
   "source": [
    "import os\n",
    "\n",
    "import rasterio\n",
    "from rasterio.plot import reshape_as_image\n",
    "import rasterio.mask\n",
    "from rasterio.features import rasterize\n",
    "\n",
    "import pandas as pd\n",
    "import geopandas as gpd\n",
    "from shapely.geometry import mapping, Point, Polygon\n",
    "from shapely.ops import cascaded_union\n",
    "\n",
    "import numpy as np\n",
    "import cv2\n",
    "import matplotlib.pyplot as plt\n",
    "\n",
    "import tensorflow as tf\n",
    "from tensorflow.keras.preprocessing.image import load_img\n",
    "from keras.models import Sequential\n",
    "from keras.layers import Conv2D, MaxPooling2D, Dropout, UpSampling2D, Concatenate, Input\n",
    "from keras import backend as K\n",
    "from keras.preprocessing.image import ImageDataGenerator\n",
    "from keras.models import Model\n",
    "\n",
    "from keras.optimizers import Adam\n",
    "from keras.callbacks import LearningRateScheduler\n",
    "from keras.utils import Sequence\n",
    "\n",
    "import optuna"
   ],
   "metadata": {
    "execution": {
     "iopub.status.busy": "2023-03-12T17:12:51.163235Z",
     "iopub.execute_input": "2023-03-12T17:12:51.163545Z",
     "iopub.status.idle": "2023-03-12T17:13:00.419825Z",
     "shell.execute_reply.started": "2023-03-12T17:12:51.163514Z",
     "shell.execute_reply": "2023-03-12T17:13:00.418506Z"
    },
    "trusted": true
   },
   "execution_count": 1,
   "outputs": [
    {
     "name": "stderr",
     "text": "/opt/conda/lib/python3.7/site-packages/geopandas/_compat.py:115: UserWarning: The Shapely GEOS version (3.9.1-CAPI-1.14.2) is incompatible with the GEOS version PyGEOS was compiled with (3.10.4-CAPI-1.16.2). Conversions between both will be slow.\n  shapely_geos_version, geos_capi_version_string\n",
     "output_type": "stream"
    }
   ]
  },
  {
   "cell_type": "code",
   "source": [
    "raster_path = \"T36UXV_20200406T083559_TCI_10m.jp2\"\n",
    "src = rasterio.open(raster_path, \"r\", driver=\"JP2OpenJPEG\")\n",
    "raster_img = src.read()\n",
    "raster_meta = src.meta\n",
    "raster_img = reshape_as_image(raster_img)"
   ],
   "metadata": {
    "execution": {
     "iopub.status.busy": "2023-03-12T17:13:00.422487Z",
     "iopub.execute_input": "2023-03-12T17:13:00.423407Z",
     "iopub.status.idle": "2023-03-12T17:13:21.503444Z",
     "shell.execute_reply.started": "2023-03-12T17:13:00.423361Z",
     "shell.execute_reply": "2023-03-12T17:13:21.502219Z"
    },
    "trusted": true
   },
   "execution_count": 2,
   "outputs": []
  },
  {
   "cell_type": "code",
   "source": [
    "train_df = gpd.read_file(\"Masks_T36UXV_20190427.shp\")\n",
    "\n",
    "# let's remove rows without geometry\n",
    "train_df = train_df[train_df.geometry.notnull()]\n",
    "\n",
    "# assigning crs\n",
    "train_df.crs = {'init' :'epsg:4267'}\n",
    "\n",
    "#transforming polygons to the raster crs\n",
    "train_df = train_df.to_crs({'init' : raster_meta['crs']['init']})"
   ],
   "metadata": {
    "execution": {
     "iopub.status.busy": "2023-03-12T17:13:21.504796Z",
     "iopub.execute_input": "2023-03-12T17:13:21.505168Z",
     "iopub.status.idle": "2023-03-12T17:13:21.896331Z",
     "shell.execute_reply.started": "2023-03-12T17:13:21.505127Z",
     "shell.execute_reply": "2023-03-12T17:13:21.894006Z"
    },
    "trusted": true
   },
   "execution_count": 3,
   "outputs": [
    {
     "name": "stderr",
     "text": "/opt/conda/lib/python3.7/site-packages/pyproj/crs/crs.py:68: FutureWarning: '+init=<authority>:<code>' syntax is deprecated. '<authority>:<code>' is the preferred initialization method. When making the change, be mindful of axis order changes: https://pyproj4.github.io/pyproj/stable/gotchas.html#axis-order-changes-in-proj-6\n  return _prepare_from_string(\" \".join(pjargs))\n/opt/conda/lib/python3.7/site-packages/pyproj/crs/crs.py:68: FutureWarning: '+init=<authority>:<code>' syntax is deprecated. '<authority>:<code>' is the preferred initialization method. When making the change, be mindful of axis order changes: https://pyproj4.github.io/pyproj/stable/gotchas.html#axis-order-changes-in-proj-6\n  return _prepare_from_string(\" \".join(pjargs))\n",
     "output_type": "stream"
    }
   ]
  },
  {
   "cell_type": "code",
   "source": [
    "def poly_from_utm(polygon, transform):\n",
    "    poly_pts = []\n",
    "    \n",
    "    # make a polygon from multipolygon\n",
    "    poly = cascaded_union(polygon)\n",
    "    for i in np.array(poly.exterior.coords):\n",
    "        \n",
    "        poly_pts.append(~transform * tuple(i))\n",
    "        \n",
    "    # make a shapely Polygon object\n",
    "    new_poly = Polygon(poly_pts)\n",
    "    return new_poly\n",
    "\n",
    "\n",
    "poly_shp = []\n",
    "im_size = (src.meta['height'], src.meta['width'])\n",
    "for num, row in train_df.iterrows():\n",
    "    if row['geometry'].geom_type == 'Polygon':\n",
    "        poly = poly_from_utm(row['geometry'], src.meta['transform'])\n",
    "        poly_shp.append(poly)\n",
    "    else:\n",
    "        for p in row['geometry']:\n",
    "            poly = poly_from_utm(p, src.meta['transform'])\n",
    "            poly_shp.append(poly)\n",
    "\n",
    "mask = rasterize(shapes=poly_shp,\n",
    "                 out_shape=im_size)"
   ],
   "metadata": {
    "execution": {
     "iopub.status.busy": "2023-03-12T17:13:21.898440Z",
     "iopub.execute_input": "2023-03-12T17:13:21.898738Z",
     "iopub.status.idle": "2023-03-12T17:13:22.577341Z",
     "shell.execute_reply.started": "2023-03-12T17:13:21.898709Z",
     "shell.execute_reply": "2023-03-12T17:13:22.576364Z"
    },
    "trusted": true
   },
   "execution_count": 4,
   "outputs": [
    {
     "name": "stderr",
     "text": "/opt/conda/lib/python3.7/site-packages/ipykernel_launcher.py:7: ShapelyDeprecationWarning: The 'cascaded_union()' function is deprecated. Use 'unary_union()' instead.\n  import sys\n",
     "output_type": "stream"
    }
   ]
  },
  {
   "cell_type": "code",
   "source": [
    "# Define batch size\n",
    "batch_size = 32\n",
    "\n",
    "val_split = int(10980*0.8)\n",
    "print(val_split)\n",
    "\n",
    "# Load image and mask using load_img from Keras\n",
    "train_image = raster_img[:val_split]\n",
    "train_mask = mask[:val_split, :, None]\n",
    "\n",
    "val_image = raster_img[val_split:]\n",
    "val_mask = mask[val_split:, :, None]"
   ],
   "metadata": {
    "execution": {
     "iopub.status.busy": "2023-03-12T17:13:22.579136Z",
     "iopub.execute_input": "2023-03-12T17:13:22.579630Z",
     "iopub.status.idle": "2023-03-12T17:13:22.587169Z",
     "shell.execute_reply.started": "2023-03-12T17:13:22.579588Z",
     "shell.execute_reply": "2023-03-12T17:13:22.585977Z"
    },
    "trusted": true
   },
   "execution_count": 5,
   "outputs": [
    {
     "name": "stdout",
     "text": "8784\n",
     "output_type": "stream"
    }
   ]
  },
  {
   "cell_type": "code",
   "source": [
    "def conv_block(inputs, num_filters):\n",
    "    x = Conv2D(num_filters, 3, activation='relu', padding='same')(inputs)\n",
    "    x = Conv2D(num_filters, 3, activation='relu', padding='same')(x)\n",
    "    return x\n",
    "\n",
    "def unet(input_shape=(256, 256, 3)):\n",
    "    inputs = Input(shape=input_shape)\n",
    "\n",
    "    conv1 = conv_block(inputs, 64)\n",
    "    pool1 = MaxPooling2D(pool_size=(2, 2))(conv1)\n",
    "\n",
    "    conv2 = conv_block(pool1, 128)\n",
    "    pool2 = MaxPooling2D(pool_size=(2, 2))(conv2)\n",
    "\n",
    "    conv3 = conv_block(pool2, 256)\n",
    "    pool3 = MaxPooling2D(pool_size=(2, 2))(conv3)\n",
    "\n",
    "    conv4 = conv_block(pool3, 512)\n",
    "    drop4 = Dropout(0.5)(conv4)\n",
    "\n",
    "    up5 = Conv2D(256, 2, activation='relu', padding='same')(UpSampling2D(size=(2, 2))(drop4))\n",
    "    merge5 = Concatenate(axis=3)([conv3, up5])\n",
    "\n",
    "    conv6 = conv_block(merge5, 256)\n",
    "    up7 = Conv2D(128, 2, activation='relu', padding='same')(UpSampling2D(size=(2, 2))(conv6))\n",
    "    merge7 = Concatenate(axis=3)([conv2, up7])\n",
    "\n",
    "    conv8 = conv_block(merge7, 128)\n",
    "    up9 = Conv2D(64, 2, activation='relu', padding='same')(UpSampling2D(size=(2, 2))(conv8))\n",
    "    merge9 = Concatenate(axis=3)([conv1, up9])\n",
    "\n",
    "    conv10 = conv_block(merge9, 64)\n",
    "\n",
    "    outputs = Conv2D(1, 1, activation='sigmoid')(conv10)\n",
    "\n",
    "    model = Model(inputs=inputs, outputs=outputs)\n",
    "\n",
    "    return model"
   ],
   "metadata": {
    "execution": {
     "iopub.status.busy": "2023-03-12T17:13:22.588975Z",
     "iopub.execute_input": "2023-03-12T17:13:22.589463Z",
     "iopub.status.idle": "2023-03-12T17:13:22.603239Z",
     "shell.execute_reply.started": "2023-03-12T17:13:22.589405Z",
     "shell.execute_reply": "2023-03-12T17:13:22.601970Z"
    },
    "trusted": true
   },
   "execution_count": 6,
   "outputs": []
  },
  {
   "cell_type": "code",
   "source": [
    "def dice_coefficient(y_true, y_pred, smooth=1):\n",
    "    intersection = K.sum(y_true * y_pred, axis=[1, 2, 3])\n",
    "    union = K.sum(y_true, axis=[1, 2, 3]) + K.sum(y_pred, axis=[1, 2, 3])\n",
    "    return K.mean((2. * intersection + smooth) / (union + smooth), axis=0)\n",
    "\n",
    "def dice_loss(y_true, y_pred):\n",
    "    return 1 - dice_coefficient(y_true, y_pred)"
   ],
   "metadata": {
    "execution": {
     "iopub.status.busy": "2023-03-12T17:13:22.604824Z",
     "iopub.execute_input": "2023-03-12T17:13:22.605191Z",
     "iopub.status.idle": "2023-03-12T17:13:22.614838Z",
     "shell.execute_reply.started": "2023-03-12T17:13:22.605146Z",
     "shell.execute_reply": "2023-03-12T17:13:22.613755Z"
    },
    "trusted": true
   },
   "execution_count": 7,
   "outputs": []
  },
  {
   "cell_type": "code",
   "source": [
    "def random_crop(image, mask, crop_size):\n",
    "    height, width = image.shape[:2]\n",
    "    dy, dx = crop_size\n",
    "    x = np.random.randint(0, width - dx + 1)\n",
    "    y = np.random.randint(0, height - dy + 1)\n",
    "    image_crop = image[y:(y+dy), x:(x+dx), :]\n",
    "    mask_crop = mask[y:(y+dy), x:(x+dx), :]\n",
    "    return image_crop, mask_crop\n",
    "\n",
    "def generate_random_batch(datagen, image_arr, mask_arr, batch_size, crop_size):\n",
    "    while True:\n",
    "        batch_images = np.zeros((batch_size, crop_size[0], crop_size[1], 3))\n",
    "        batch_masks = np.zeros((batch_size, crop_size[0], crop_size[1], 1))\n",
    "        for i in range(batch_size):\n",
    "            image_crop, mask_crop = random_crop(image_arr, mask_arr, crop_size)\n",
    "            image_crop, mask_crop = next(datagen.flow(image_crop[np.newaxis], mask_crop[np.newaxis]))\n",
    "            batch_images[i] = image_crop\n",
    "            batch_masks[i] = mask_crop\n",
    "        yield batch_images, batch_masks"
   ],
   "metadata": {
    "execution": {
     "iopub.status.busy": "2023-03-12T17:13:22.616165Z",
     "iopub.execute_input": "2023-03-12T17:13:22.616515Z",
     "iopub.status.idle": "2023-03-12T17:13:22.627929Z",
     "shell.execute_reply.started": "2023-03-12T17:13:22.616487Z",
     "shell.execute_reply": "2023-03-12T17:13:22.626786Z"
    },
    "trusted": true
   },
   "execution_count": 8,
   "outputs": []
  },
  {
   "cell_type": "code",
   "source": [
    "train_datagen = ImageDataGenerator(\n",
    "        rescale=1./255)\n",
    "\n",
    "train_generator = generate_random_batch(train_datagen, train_image, train_mask, batch_size, (256, 256))\n",
    "\n",
    "val_datagen = ImageDataGenerator(rescale=1./255)\n",
    "val_generator = generate_random_batch(val_datagen, val_image, val_mask, batch_size, (256, 256))\n",
    "\n",
    "steps_per_epoch = int(np.ceil(1. * 10980 / 256) * np.ceil(1. * 10980 / 256) / batch_size)"
   ],
   "metadata": {
    "execution": {
     "iopub.status.busy": "2023-03-12T17:13:22.629600Z",
     "iopub.execute_input": "2023-03-12T17:13:22.629978Z",
     "iopub.status.idle": "2023-03-12T17:13:22.639080Z",
     "shell.execute_reply.started": "2023-03-12T17:13:22.629938Z",
     "shell.execute_reply": "2023-03-12T17:13:22.638240Z"
    },
    "trusted": true
   },
   "execution_count": 9,
   "outputs": []
  },
  {
   "cell_type": "code",
   "source": [
    "model = unet()\n",
    "model.compile(optimizer=Adam(lr=0.5),\n",
    "              loss=dice_loss,\n",
    "              metrics=[dice_coefficient])\n",
    "\n",
    "history = model.fit(train_generator, \n",
    "          epochs=10, \n",
    "          steps_per_epoch=steps_per_epoch,\n",
    "          validation_data=val_generator,\n",
    "          validation_steps=steps_per_epoch)"
   ],
   "metadata": {
    "execution": {
     "iopub.status.busy": "2023-03-12T17:26:19.016794Z",
     "iopub.execute_input": "2023-03-12T17:26:19.017752Z",
     "iopub.status.idle": "2023-03-12T17:26:19.022859Z",
     "shell.execute_reply.started": "2023-03-12T17:26:19.017680Z",
     "shell.execute_reply": "2023-03-12T17:26:19.021626Z"
    },
    "trusted": true
   },
   "execution_count": 12,
   "outputs": []
  },
  {
   "cell_type": "code",
   "source": [
    "def objective(trial):\n",
    "    initial_lr = trial.suggest_loguniform('lr', 1e-3, 1e-1)\n",
    "    decay_rate = trial.suggest_uniform('decay_rate', 0.1, 0.9)\n",
    "    decay_step = 1\n",
    "    \n",
    "    def lr_schedule(epoch):\n",
    "        return initial_lr * decay_rate ** (epoch // decay_step)\n",
    "\n",
    "    lr_scheduler = LearningRateScheduler(lr_schedule)\n",
    "\n",
    "    model = unet()\n",
    "    model.compile(optimizer=Adam(lr=initial_lr),\n",
    "                  loss=dice_loss,\n",
    "                  metrics=[dice_coefficient])\n",
    "\n",
    "    history = model.fit(train_generator, \n",
    "              epochs=1, \n",
    "              steps_per_epoch=steps_per_epoch,\n",
    "              validation_data=val_generator,\n",
    "              validation_steps=steps_per_epoch,\n",
    "              callbacks=[lr_scheduler])\n",
    "\n",
    "    if history.history['val_loss'][0] > 0.5:\n",
    "        raise optuna.TrialPruned()\n",
    "    \n",
    "    history = model.fit(train_generator, \n",
    "              epochs=3, \n",
    "              steps_per_epoch=steps_per_epoch,\n",
    "              validation_data=val_generator,\n",
    "              validation_steps=steps_per_epoch,\n",
    "              callbacks=[lr_scheduler])\n",
    "        \n",
    "    return history.history['val_loss'][-1]"
   ],
   "metadata": {
    "execution": {
     "iopub.status.busy": "2023-03-12T17:26:07.066940Z",
     "iopub.status.idle": "2023-03-12T17:26:07.067806Z",
     "shell.execute_reply.started": "2023-03-12T17:26:07.067521Z",
     "shell.execute_reply": "2023-03-12T17:26:07.067550Z"
    },
    "trusted": true
   },
   "execution_count": null,
   "outputs": []
  },
  {
   "cell_type": "code",
   "source": [
    "study = optuna.create_study(direction='minimize')\n",
    "study.optimize(objective, n_trials=10)\n",
    "\n",
    "print(\"Best trial: \", study.best_trial.params)"
   ],
   "metadata": {
    "execution": {
     "iopub.status.busy": "2023-03-12T17:26:07.069409Z",
     "iopub.status.idle": "2023-03-12T17:26:07.070258Z",
     "shell.execute_reply.started": "2023-03-12T17:26:07.069989Z",
     "shell.execute_reply": "2023-03-12T17:26:07.070016Z"
    },
    "trusted": true
   },
   "execution_count": null,
   "outputs": []
  },
  {
   "cell_type": "code",
   "source": [
    "train_generator = generate_random_batch(train_datagen, train_image, train_mask, batch_size, (256, 256))\n",
    "while 1:\n",
    "    images, masks = next(train_generator)\n",
    "    if np.sum(masks) > 10000:\n",
    "        break\n",
    "\n",
    "predicted = model.predict(images)\n",
    "print(np.sum(predicted))\n",
    "for i in range(32):\n",
    "    print('image:')\n",
    "    plt.imshow(images[i])\n",
    "    plt.show()\n",
    "    print('predicted mask:')\n",
    "    plt.imshow(predicted[i])\n",
    "    plt.show()\n",
    "    print('actual mask:')\n",
    "    plt.imshow(masks[i])\n",
    "    plt.show()"
   ],
   "metadata": {
    "execution": {
     "iopub.status.busy": "2023-03-12T17:26:07.071755Z",
     "iopub.status.idle": "2023-03-12T17:26:07.072633Z",
     "shell.execute_reply.started": "2023-03-12T17:26:07.072320Z",
     "shell.execute_reply": "2023-03-12T17:26:07.072347Z"
    },
    "trusted": true
   },
   "execution_count": null,
   "outputs": []
  },
  {
   "cell_type": "code",
   "source": [],
   "metadata": {},
   "execution_count": null,
   "outputs": []
  }
 ]
}
